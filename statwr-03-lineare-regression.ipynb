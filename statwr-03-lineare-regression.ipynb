{
 "cells": [
  {
   "cell_type": "markdown",
   "id": "85cd1c7b",
   "metadata": {
    "papermill": {
     "duration": 0.012842,
     "end_time": "2021-10-29T13:31:18.662790",
     "exception": false,
     "start_time": "2021-10-29T13:31:18.649948",
     "status": "completed"
    },
    "tags": []
   },
   "source": [
    " # Least Squares\n",
    "In diesem Notebook werden wir lineare Regression (least squares) implementieren und auf die Auto-Daten anwenden, um Gebrauchtwagenpreise auf EBay vorherzusagen."
   ]
  },
  {
   "cell_type": "markdown",
   "id": "dc676c09",
   "metadata": {
    "papermill": {
     "duration": 0.00941,
     "end_time": "2021-10-29T13:31:18.681992",
     "exception": false,
     "start_time": "2021-10-29T13:31:18.672582",
     "status": "completed"
    },
    "tags": []
   },
   "source": [
    "## 1. Implementierung\n",
    "\n",
    "Implementieren Sie eine Methode *leastsquares()*, die gemäß der Formel aus den Videos die Parameter $(a,b)$ einer Ausgleichsgerade ermittelt und zurückliefert.\n",
    "Ihre Methode erhält mit x und y zwei Numpy-Arrays der Länge $n$ mit den x- und y-Koordinaten der gegebenen Stichprobe.\n",
    "\n",
    "*Hinweis: Sie benötigen Kennwerte wie Mittelwert oder Varianz. Verwenden Sie hierzu numpy-Methoden wie mean() und var().*\n",
    "\n",
    "*Hinweis: Sie können zur Berechnung der Kovarianz die Methode np.cov() heranziehen. Falls Sie dies möchten, setzen Sie den Parameter bias auf True.*\n"
   ]
  },
  {
   "cell_type": "code",
   "execution_count": 27,
   "id": "ea4bd0cd",
   "metadata": {
    "execution": {
     "iopub.execute_input": "2021-10-29T13:31:18.707205Z",
     "iopub.status.busy": "2021-10-29T13:31:18.705431Z",
     "iopub.status.idle": "2021-10-29T13:31:18.718341Z",
     "shell.execute_reply": "2021-10-29T13:31:18.717605Z",
     "shell.execute_reply.started": "2021-10-29T12:36:04.413035Z"
    },
    "papermill": {
     "duration": 0.027148,
     "end_time": "2021-10-29T13:31:18.718639",
     "exception": true,
     "start_time": "2021-10-29T13:31:18.691491",
     "status": "failed"
    },
    "tags": []
   },
   "outputs": [],
   "source": [
    "import numpy as np\n",
    "\n",
    "def leastsquares(x,y):\n",
    "    a = np.cov((x,y))[0][1] / np.var(x)\n",
    "    b = np.mean(y) - a * np.mean(x)\n",
    "\n",
    "    return a, b"
   ]
  },
  {
   "cell_type": "code",
   "execution_count": 28,
   "id": "1f4bd4cd",
   "metadata": {},
   "outputs": [
    {
     "name": "stdout",
     "output_type": "stream",
     "text": [
      "2.8\n",
      "-3.25\n"
     ]
    }
   ],
   "source": [
    "# test\n",
    "x = np.array([1,2,3,4])\n",
    "y = np.array([1,2,5,7])\n",
    "\n",
    "a, b = leastsquares(x, y)\n",
    "\n",
    "print(a)\n",
    "print(b)"
   ]
  },
  {
   "cell_type": "markdown",
   "id": "8ad801ba",
   "metadata": {
    "papermill": {
     "duration": null,
     "end_time": null,
     "exception": null,
     "start_time": null,
     "status": "pending"
    },
    "tags": []
   },
   "source": [
    "## 2. Kleiner Test\n",
    "Wir verwenden zunächst eine kleine Stichprobe: \n",
    "$$(x_1,y_1), ..., (x_4,y_4) = (1,1), (2,2), (3,5), (4,7).\n",
    "$$\n",
    "Testen Sie Ihre Methode *leastsquares()*, indem Sie sie auf die Daten anwenden und dann Daten und Gerade mit der Funktion *plot()* plotten."
   ]
  },
  {
   "cell_type": "code",
   "execution_count": 29,
   "id": "b32a8cbf",
   "metadata": {
    "execution": {
     "iopub.execute_input": "2021-10-29T12:36:19.414727Z",
     "iopub.status.busy": "2021-10-29T12:36:19.414313Z",
     "iopub.status.idle": "2021-10-29T12:36:19.643088Z",
     "shell.execute_reply": "2021-10-29T12:36:19.642034Z",
     "shell.execute_reply.started": "2021-10-29T12:36:19.414682Z"
    },
    "papermill": {
     "duration": null,
     "end_time": null,
     "exception": null,
     "start_time": null,
     "status": "pending"
    },
    "tags": []
   },
   "outputs": [
    {
     "data": {
      "image/png": "[encoded data removed]",
      "text/plain": [
       "<Figure size 432x288 with 1 Axes>"
      ]
     },
     "metadata": {
      "needs_background": "light"
     },
     "output_type": "display_data"
    }
   ],
   "source": [
    "import matplotlib.pyplot as plt\n",
    "\n",
    "def plot(x, y, a, b):\n",
    "    \"\"\" \n",
    "          ! DO NOT TOUCH !\n",
    "\n",
    "          This method plots the 2D point cloud (x,y) in red, \n",
    "          and the fitted line (a,b) in orange.\n",
    "    \"\"\"\n",
    "    plt.plot(x, y, 'o', color='red', markersize=5)\n",
    "    xmin = np.min(x)-1\n",
    "    xmax = np.max(x)+1\n",
    "    ymin = np.min(y)-1\n",
    "    ymax = np.max(y)+1    \n",
    "    plt.axis([xmin,xmax,ymin,ymax]) # set range to plot\n",
    "    xticks = np.arange(xmin, xmax, (xmax-xmin)/1000.)\n",
    "    plt.plot(xticks, a*xticks+b, '-', color='orange')\n",
    "    \n",
    "    plt.grid(True)\n",
    "    plt.show()    \n",
    "    \n",
    "x = np.array([1,2,3,4])\n",
    "y = np.array([1,2,5,7])\n",
    "a,b = leastsquares(x,y)\n",
    "plot(x,y,a,b)"
   ]
  },
  {
   "cell_type": "markdown",
   "id": "c944731f",
   "metadata": {
    "papermill": {
     "duration": null,
     "end_time": null,
     "exception": null,
     "start_time": null,
     "status": "pending"
    },
    "tags": []
   },
   "source": [
    "## 3. Autodaten laden\n",
    "Laden Sie die bekannten Autodaten 'cars.csv'. Führen Sie hierzu die nächste Zelle aus."
   ]
  },
  {
   "cell_type": "code",
   "execution_count": 8,
   "id": "60c73f71",
   "metadata": {
    "execution": {
     "iopub.execute_input": "2021-10-29T12:37:55.511253Z",
     "iopub.status.busy": "2021-10-29T12:37:55.510898Z",
     "iopub.status.idle": "2021-10-29T12:37:55.757511Z",
     "shell.execute_reply": "2021-10-29T12:37:55.756519Z",
     "shell.execute_reply.started": "2021-10-29T12:37:55.511217Z"
    },
    "papermill": {
     "duration": null,
     "end_time": null,
     "exception": null,
     "start_time": null,
     "status": "pending"
    },
    "tags": []
   },
   "outputs": [
    {
     "name": "stdout",
     "output_type": "stream",
     "text": [
      "00 : dollar_price\n",
      "01 : registration_year\n",
      "02 : power_ps\n",
      "03 : kilometer\n",
      "04 : postal_code\n",
      "05 : type__bus\n",
      "06 : type__cabrio\n",
      "07 : type__coupe\n",
      "08 : type__kleinwagen\n",
      "09 : type__kombi\n",
      "10 : type__limousine\n",
      "11 : type__suv\n",
      "12 : gearbox__automatik\n",
      "13 : gearbox__manuell\n",
      "14 : fuel__benzin\n",
      "15 : fuel__diesel\n",
      "16 : brand__alfa_romeo\n",
      "17 : brand__audi\n",
      "18 : brand__bmw\n",
      "19 : brand__chevrolet\n",
      "20 : brand__chrysler\n",
      "21 : brand__citroen\n",
      "22 : brand__dacia\n",
      "23 : brand__daewoo\n",
      "24 : brand__daihatsu\n",
      "25 : brand__fiat\n",
      "26 : brand__ford\n",
      "27 : brand__honda\n",
      "28 : brand__hyundai\n",
      "29 : brand__jaguar\n",
      "30 : brand__jeep\n",
      "31 : brand__kia\n",
      "32 : brand__lada\n",
      "33 : brand__lancia\n",
      "34 : brand__land_rover\n",
      "35 : brand__mazda\n",
      "36 : brand__mercedes_benz\n",
      "37 : brand__mini\n",
      "38 : brand__mitsubishi\n",
      "39 : brand__nissan\n",
      "40 : brand__opel\n",
      "41 : brand__peugeot\n",
      "42 : brand__porsche\n",
      "43 : brand__renault\n",
      "44 : brand__rover\n",
      "45 : brand__saab\n",
      "46 : brand__seat\n",
      "47 : brand__skoda\n",
      "48 : brand__smart\n",
      "49 : brand__subaru\n",
      "50 : brand__suzuki\n",
      "51 : brand__toyota\n",
      "52 : brand__trabant\n",
      "53 : brand__volkswagen\n",
      "54 : brand__volvo\n",
      "55 : damage__ja\n",
      "56 : damage__nein\n"
     ]
    }
   ],
   "source": [
    "import pandas\n",
    "\n",
    "# Anmerkung: Man kann die Datei auch in Excel/Libreoffice öffnen.\n",
    "cars = pandas.read_csv('data/cars.csv')\n",
    "\n",
    "# Wir geben die Namen der Spalten/Merkmale aus.\n",
    "columns = cars.columns\n",
    "for i,col in enumerate(columns):\n",
    "    print('%.2d : %s' %(i,col))\n",
    "    \n",
    "# Wir konvertieren die Daten in ein Numpy-Array.\n",
    "data = cars.values.astype('float')\n",
    "\n",
    "# Wir filtern alle Autos die teurer als 50.000 EUR sind.\n",
    "data = data[data[:,0]<50000,:]\n",
    "# Wir filtern alle Autos die billiger als 1.000 EUR sind.\n",
    "data = data[data[:,0]>=1000,:]"
   ]
  },
  {
   "cell_type": "markdown",
   "id": "f6f83be1",
   "metadata": {
    "papermill": {
     "duration": null,
     "end_time": null,
     "exception": null,
     "start_time": null,
     "status": "pending"
    },
    "tags": []
   },
   "source": [
    "## 4. Autopreise vorhersagen\n",
    "Verwenden Sie nun Ihr Least-Squares-Modell, um den *Preis* eines Autos vorherzusagen, gegeben den *Kilometerstand*. \n",
    "* Extrahieren Sie hierzu beide Spalten aus der Matrix *data* und rufen Sie leastsquares() auf, um die Parameter $a$ und $b$ zu bestimmen.\n",
    "* Ermitteln Sie dann für die ersten zehn Autos die Vorhersage Ihres Modells und vergleichen Sie sie mit den echten Preisen.\n",
    "\n",
    "Wirken die Ergebnisse (halbwegs) plausibel?"
   ]
  },
  {
   "cell_type": "code",
   "execution_count": 25,
   "id": "9e398f18",
   "metadata": {
    "execution": {
     "iopub.execute_input": "2021-10-29T12:38:30.371021Z",
     "iopub.status.busy": "2021-10-29T12:38:30.37052Z",
     "iopub.status.idle": "2021-10-29T12:38:30.391562Z",
     "shell.execute_reply": "2021-10-29T12:38:30.390439Z",
     "shell.execute_reply.started": "2021-10-29T12:38:30.370955Z"
    },
    "papermill": {
     "duration": null,
     "end_time": null,
     "exception": null,
     "start_time": null,
     "status": "pending"
    },
    "tags": []
   },
   "outputs": [
    {
     "data": {
      "text/plain": [
       "[16095.420813624713,\n",
       " 17493.701867995245,\n",
       " 17318.916736198928,\n",
       " 17435.44015739647,\n",
       " 17452.08636042469,\n",
       " 17385.584779326953,\n",
       " 16120.473349182184,\n",
       " 17472.89411420997,\n",
       " 16990.154226391573,\n",
       " 17464.57101269586]"
      ]
     },
     "execution_count": 25,
     "metadata": {},
     "output_type": "execute_result"
    }
   ],
   "source": [
    "# KM\n",
    "x = data[:,3]\n",
    "y = data[:,0]\n",
    "\n",
    "a, b = leastsquares(x,y)\n",
    "\n",
    "preds = []\n",
    "for i in range(0,10):\n",
    "    preds_ = a * data[i][0] + b\n",
    "    preds.append(preds_)\n",
    "\n",
    "preds"
   ]
  },
  {
   "cell_type": "code",
   "execution_count": 26,
   "id": "3237f0fb",
   "metadata": {},
   "outputs": [
    {
     "name": "stdout",
     "output_type": "stream",
     "text": [
      "18300.0\n",
      "1500.0\n",
      "3600.0\n",
      "2200.0\n",
      "2000.0\n",
      "2799.0\n",
      "17999.0\n",
      "1750.0\n",
      "7550.0\n",
      "1850.0\n"
     ]
    }
   ],
   "source": [
    "# compare with real values\n",
    "for i in range(0,10):\n",
    "    print(data[i][0])"
   ]
  },
  {
   "cell_type": "markdown",
   "id": "3840d542",
   "metadata": {
    "papermill": {
     "duration": null,
     "end_time": null,
     "exception": null,
     "start_time": null,
     "status": "pending"
    },
    "tags": []
   },
   "source": [
    "## 5. Modell bewerten\n",
    "Schreiben Sie eine Funktion *error()*, die ermittelt um *wieviel Prozent* der echte Preis vom vorhergesagten Preis abweicht - gemittelt über alle Autos.\n",
    "Ihre Funktion erhält als Parameter die prognostizierten Preise und die echten Preise. \n",
    "Rufen Sie error() für Ihr Modell auf. Um wieviel Prozent weicht die kilometerstandsbasierte Prognose im Schnitt vom echten Preis ab?"
   ]
  },
  {
   "cell_type": "code",
   "execution_count": null,
   "id": "892674d1",
   "metadata": {
    "execution": {
     "iopub.execute_input": "2021-10-29T12:44:42.125335Z",
     "iopub.status.busy": "2021-10-29T12:44:42.124973Z",
     "iopub.status.idle": "2021-10-29T12:44:42.138313Z",
     "shell.execute_reply": "2021-10-29T12:44:42.137296Z",
     "shell.execute_reply.started": "2021-10-29T12:44:42.125299Z"
    },
    "papermill": {
     "duration": null,
     "end_time": null,
     "exception": null,
     "start_time": null,
     "status": "pending"
    },
    "tags": []
   },
   "outputs": [],
   "source": [
    "def error(ypredicted, yreal):\n",
    "    \n",
    "    \n",
    "    \n",
    "\n",
    "# FIXME"
   ]
  },
  {
   "cell_type": "markdown",
   "id": "f4d52bde",
   "metadata": {
    "papermill": {
     "duration": null,
     "end_time": null,
     "exception": null,
     "start_time": null,
     "status": "pending"
    },
    "tags": []
   },
   "source": [
    "## 6. Merkmale vergleichen\n",
    "Versuchen Sie nun, den Preis nicht nur anhand des Kilometerstandes vorherzusagen, sondern versuchen Sie es mit *jedem* Merkmal (dem Zulassungsjahr, den PS, dem Kilometerstand, etc.). Für jedes Merkmal:\n",
    "* Bestimmen Sie die Parameter a,b, mit leastsquares()\n",
    "* Ermitteln Sie die vorhergesagten Preise\n",
    "* Geben Sie den prozentualen Fehler aus, mit error().\n",
    "\n",
    "Welches Merkmal ist das beste, d.h. es führt zum geringsten Fehler?"
   ]
  },
  {
   "cell_type": "code",
   "execution_count": null,
   "id": "f580d38a",
   "metadata": {
    "execution": {
     "iopub.execute_input": "2021-10-29T12:45:00.590138Z",
     "iopub.status.busy": "2021-10-29T12:45:00.589779Z",
     "iopub.status.idle": "2021-10-29T12:45:00.685629Z",
     "shell.execute_reply": "2021-10-29T12:45:00.684715Z",
     "shell.execute_reply.started": "2021-10-29T12:45:00.590097Z"
    },
    "papermill": {
     "duration": null,
     "end_time": null,
     "exception": null,
     "start_time": null,
     "status": "pending"
    },
    "tags": []
   },
   "outputs": [],
   "source": [
    "# FIXME"
   ]
  }
 ],
 "metadata": {
  "kernelspec": {
   "display_name": "Python 3",
   "language": "python",
   "name": "python3"
  },
  "language_info": {
   "codemirror_mode": {
    "name": "ipython",
    "version": 3
   },
   "file_extension": ".py",
   "mimetype": "text/x-python",
   "name": "python",
   "nbconvert_exporter": "python",
   "pygments_lexer": "ipython3",
   "version": "3.9.2"
  },
  "papermill": {
   "default_parameters": {},
   "duration": 10.137672,
   "end_time": "2021-10-29T13:31:19.338736",
   "environment_variables": {},
   "exception": true,
   "input_path": "__notebook__.ipynb",
   "output_path": "__notebook__.ipynb",
   "parameters": {},
   "start_time": "2021-10-29T13:31:09.201064",
   "version": "2.3.3"
  }
 },
 "nbformat": 4,
 "nbformat_minor": 5
}
