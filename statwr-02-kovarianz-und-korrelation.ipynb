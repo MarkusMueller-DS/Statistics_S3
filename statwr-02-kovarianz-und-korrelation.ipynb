{
 "cells": [
  {
   "cell_type": "markdown",
   "id": "7b291bba",
   "metadata": {
    "papermill": {
     "duration": 0.007853,
     "end_time": "2021-10-22T14:07:54.075493",
     "exception": false,
     "start_time": "2021-10-22T14:07:54.067640",
     "status": "completed"
    },
    "tags": []
   },
   "source": [
    " # Kovarianz und Korrelation\n",
    "In diesem Notebook werden wir Kovarianzen und Korrelationen berechnen und praktisch anwenden. Machen Sie sich hierzu - soweit noch nicht geschehen - noch einmal mit den Definitionen aus der Vorlesung vertraut, insbesondere der **Kovarianzmatrix**.\n"
   ]
  },
  {
   "cell_type": "markdown",
   "id": "cc580382",
   "metadata": {
    "papermill": {
     "duration": 0.005629,
     "end_time": "2021-10-22T14:07:54.087881",
     "exception": false,
     "start_time": "2021-10-22T14:07:54.082252",
     "status": "completed"
    },
    "tags": []
   },
   "source": [
    "## 1. Vorbereitung\n",
    "Die folgende Zelle liest eine bivariate Stichprobe aus einer Textdatei ein und plottet die Daten. Führen Sie die Zelle aus.\n",
    "**Sie müssen den Code in der Zelle nicht ändern!**"
   ]
  },
  {
   "cell_type": "code",
   "execution_count": 2,
   "id": "d9938a27",
   "metadata": {
    "execution": {
     "iopub.execute_input": "2021-10-22T14:07:54.104348Z",
     "iopub.status.busy": "2021-10-22T14:07:54.103251Z",
     "iopub.status.idle": "2021-10-22T14:07:54.334355Z",
     "shell.execute_reply": "2021-10-22T14:07:54.334815Z",
     "shell.execute_reply.started": "2021-10-22T14:05:18.341295Z"
    },
    "papermill": {
     "duration": 0.241466,
     "end_time": "2021-10-22T14:07:54.335129",
     "exception": false,
     "start_time": "2021-10-22T14:07:54.093663",
     "status": "completed"
    },
    "tags": []
   },
   "outputs": [
    {
     "name": "stdout",
     "output_type": "stream",
     "text": [
      "X is a dataset with 200 rows and 2 columns.\n"
     ]
    },
    {
     "data": {
      "image/png": "[encoded data removed]",
      "text/plain": [
       "<Figure size 432x288 with 1 Axes>"
      ]
     },
     "metadata": {
      "needs_background": "light"
     },
     "output_type": "display_data"
    }
   ],
   "source": [
    "import matplotlib.pyplot as plt\n",
    "import numpy as np\n",
    "\n",
    "def read():\n",
    "    ''' reads a field of numbers from a textfile.'''\n",
    "    with open('data/sample.txt') as file:\n",
    "        lines = file.readlines()\n",
    "    # convert each line from string to sequence of floats. \n",
    "    X = list(map(lambda x: [float(t) for t in x.split()], lines))\n",
    "    X = np.array(X) \n",
    "    return X\n",
    "\n",
    "def plot(X):\n",
    "    _ = plt.scatter(X[:,0],X[:,1],s=5)\n",
    "    plt.xlim([0,10]); plt.ylim([-10,30])\n",
    "    plt.grid(); plt.show()\n",
    "\n",
    "X = read()\n",
    "print('X is a dataset with %s rows and %d columns.' %X.shape)\n",
    "plot(X)"
   ]
  },
  {
   "cell_type": "markdown",
   "id": "9aee04d2",
   "metadata": {
    "papermill": {
     "duration": 0.006791,
     "end_time": "2021-10-22T14:07:54.350984",
     "exception": false,
     "start_time": "2021-10-22T14:07:54.344193",
     "status": "completed"
    },
    "tags": []
   },
   "source": [
    "## 2. Kovarianzmatrix schätzen\n",
    "Notieren Sie auf einem Zettel eine Schätzung für die Einträge der Kovarianzmatrix $\\Sigma$ der Stichprobe, basierend auf dem obigen Plot.\n",
    "\n",
    "<img src=\"https://c8.alamy.com/comp/2B5DC6H/handwritten-math-calculations-on-a-paper-note-pad-2B5DC6H.jpg\" width=\"300\">"
   ]
  },
  {
   "cell_type": "code",
   "execution_count": null,
   "id": "b627938c",
   "metadata": {
    "papermill": {
     "duration": 0.006555,
     "end_time": "2021-10-22T14:07:54.364547",
     "exception": false,
     "start_time": "2021-10-22T14:07:54.357992",
     "status": "completed"
    },
    "tags": []
   },
   "outputs": [],
   "source": []
  },
  {
   "cell_type": "markdown",
   "id": "2d5bf61b",
   "metadata": {
    "papermill": {
     "duration": 0.006486,
     "end_time": "2021-10-22T14:07:54.377797",
     "exception": false,
     "start_time": "2021-10-22T14:07:54.371311",
     "status": "completed"
    },
    "tags": []
   },
   "source": [
    "## 3. Kovarianzmatrix berechnen\n",
    " \n",
    "Schreiben Sie nun eine ***eigene numpy-Methode*** cov(), die die Kovarianzmatrix $\\Sigma$ einer Stichprobe $X$ als Numpy-Array zurückliefert. \n",
    "\n",
    "Deckt sich das Ergebnis Ihrer Methode mit Ihrer Schätzung oben?"
   ]
  },
  {
   "cell_type": "code",
   "execution_count": 12,
   "id": "c1d11f04",
   "metadata": {
    "execution": {
     "iopub.execute_input": "2021-10-22T14:07:54.394187Z",
     "iopub.status.busy": "2021-10-22T14:07:54.393595Z",
     "iopub.status.idle": "2021-10-22T14:07:54.397586Z",
     "shell.execute_reply": "2021-10-22T14:07:54.398127Z",
     "shell.execute_reply.started": "2021-10-22T14:06:14.454258Z"
    },
    "papermill": {
     "duration": 0.01368,
     "end_time": "2021-10-22T14:07:54.398274",
     "exception": false,
     "start_time": "2021-10-22T14:07:54.384594",
     "status": "completed"
    },
    "tags": []
   },
   "outputs": [
    {
     "name": "stdout",
     "output_type": "stream",
     "text": [
      "[[ 0.11632517  1.35225522]\n",
      " [ 1.35225522 31.13490439]]\n"
     ]
    }
   ],
   "source": [
    "def cov(X):\n",
    "    mittelwert_x1 = np.mean(X[:,0])\n",
    "    mittelwert_x2 = np.mean(X[:,1])\n",
    "    varianz_x1 = np.var(X[:,0])\n",
    "    varianz_x2 = np.var(X[:,1])\n",
    "    sum_x1_x2 = []\n",
    "    for x,y in zip(X[:,0], X[:,1]):\n",
    "        sum_ = (x-mittelwert_x1)*(y-mittelwert_x2)\n",
    "        sum_x1_x2.append(sum_)\n",
    "\n",
    "    kovarianz = sum(sum_x1_x2) / X.shape[0]\n",
    "\n",
    "    result = np.array( [[varianz_x1, kovarianz],\n",
    "                        [kovarianz, varianz_x2]])\n",
    "\n",
    "    return result;\n",
    "\n",
    "print(cov(X))"
   ]
  },
  {
   "cell_type": "code",
   "execution_count": 11,
   "metadata": {},
   "outputs": [
    {
     "data": {
      "text/plain": [
       "array([[ 0.11690972,  1.35905047],\n",
       "       [ 1.35905047, 31.2913612 ]])"
      ]
     },
     "execution_count": 11,
     "metadata": {},
     "output_type": "execute_result"
    }
   ],
   "source": [
    "# result with numpy methode cov\n",
    "np.cov(X.T)"
   ]
  },
  {
   "cell_type": "markdown",
   "id": "7cfc3be1",
   "metadata": {
    "papermill": {
     "duration": 0.006883,
     "end_time": "2021-10-22T14:07:54.412203",
     "exception": false,
     "start_time": "2021-10-22T14:07:54.405320",
     "status": "completed"
    },
    "tags": []
   },
   "source": [
    "## 3. Korrelation\n",
    "Schreiben Sie eine weitere Methode *corr()*, die eine ähnliche Matrix wie die Kovarianzmatrix zurückliefert. Die Matrix sollte aber statt den Kovarianzen die **Korrelationen** zwischen den Merkmalen enthalten.\n",
    "\n",
    "*Hinweis: Verwenden Sie das Ergebnis von cov() als Zwischenergebnis und normalisieren Sie die Einträge zu Korrelationen, indem Sie durch die Standardabweichungen teilen (die zugehörigen Varianzen finden Sie auf der Diagonalen der Kovarianzmatrix).*"
   ]
  },
  {
   "cell_type": "code",
   "execution_count": 22,
   "id": "25b60ab0",
   "metadata": {
    "execution": {
     "iopub.execute_input": "2021-10-22T14:07:54.430863Z",
     "iopub.status.busy": "2021-10-22T14:07:54.430260Z",
     "iopub.status.idle": "2021-10-22T14:07:54.433161Z",
     "shell.execute_reply": "2021-10-22T14:07:54.433543Z",
     "shell.execute_reply.started": "2021-10-22T13:48:50.655742Z"
    },
    "papermill": {
     "duration": 0.014319,
     "end_time": "2021-10-22T14:07:54.433688",
     "exception": false,
     "start_time": "2021-10-22T14:07:54.419369",
     "status": "completed"
    },
    "tags": []
   },
   "outputs": [
    {
     "name": "stdout",
     "output_type": "stream",
     "text": [
      "0.7105555628208012\n"
     ]
    }
   ],
   "source": [
    "import math\n",
    "\n",
    "def corr(X):\n",
    "    kovarianzmatrix = cov(X)\n",
    "\n",
    "    varianz_x1 = kovarianzmatrix[0][0]\n",
    "    varianz_x2 = kovarianzmatrix[1][1]\n",
    "    kovarianz = kovarianzmatrix[0][1]\n",
    "\n",
    "    korrelation = kovarianz / (math.sqrt(varianz_x1) * math.sqrt(varianz_x2))\n",
    "\n",
    "    return korrelation\n",
    "\n",
    "\n",
    "print(corr(X))"
   ]
  },
  {
   "cell_type": "code",
   "execution_count": 15,
   "metadata": {},
   "outputs": [
    {
     "data": {
      "text/plain": [
       "array([[1.        , 0.71055556],\n",
       "       [0.71055556, 1.        ]])"
      ]
     },
     "execution_count": 15,
     "metadata": {},
     "output_type": "execute_result"
    }
   ],
   "source": [
    "# check with numpy method\n",
    "np.corrcoef(X[:,0], X[:,1])"
   ]
  },
  {
   "cell_type": "markdown",
   "id": "8e3a8ccd",
   "metadata": {
    "papermill": {
     "duration": 0.006914,
     "end_time": "2021-10-22T14:07:54.448014",
     "exception": false,
     "start_time": "2021-10-22T14:07:54.441100",
     "status": "completed"
    },
    "tags": []
   },
   "source": [
    "## 4. Korrelationen auf Ebay-Autos\n",
    "Der folgende Code liest unsere Ebay-Auto-Daten ein, und filtert sämtliche Autos mit einem Preis von mehr als 100,000 Autos *(diese sind als Ausreißer zu betrachten)*.\n",
    "\n",
    "Berechnen Sie nun mit Ihrer Methode *corr()* die Korrelationsmatrix. Geben Sie für sämtliche Merkmale die **Korrelation zum Merkmal Preis** (Spalte 0) aus. Welche Merkmale beeinflussen den Preis scheinbar besonders positiv/negativ?"
   ]
  },
  {
   "cell_type": "code",
   "execution_count": 32,
   "id": "1f2a4ce1",
   "metadata": {
    "execution": {
     "iopub.execute_input": "2021-10-22T14:07:54.467440Z",
     "iopub.status.busy": "2021-10-22T14:07:54.466775Z",
     "iopub.status.idle": "2021-10-22T14:07:54.644575Z",
     "shell.execute_reply": "2021-10-22T14:07:54.645040Z",
     "shell.execute_reply.started": "2021-10-22T13:58:12.540453Z"
    },
    "papermill": {
     "duration": 0.190206,
     "end_time": "2021-10-22T14:07:54.645222",
     "exception": false,
     "start_time": "2021-10-22T14:07:54.455016",
     "status": "completed"
    },
    "tags": []
   },
   "outputs": [],
   "source": [
    "import pandas\n",
    "cars = pandas.read_csv('data/cars.csv')\n",
    "\n",
    "# columns = Spalten-Namen\n",
    "columns = cars.columns\n",
    "\n",
    "# data = die eigentlichen Daten\n",
    "data = cars.values.astype('float')\n",
    "# Wir filtern alle Autos die teurer als 100K EUR sind.\n",
    "# (man kann's zum Spaß mal ohne diesen Filter probieren)\n",
    "data = data[data[:,0]<100000,:]\n",
    "\n",
    "# Korrelationen berechnen\n",
    "corrs = np.corrcoef(data.T)\n",
    "\n",
    "# Merkmale und Korrelationen ausgeben.\n",
    "# FIXME"
   ]
  },
  {
   "cell_type": "code",
   "execution_count": 46,
   "metadata": {},
   "outputs": [
    {
     "data": {
      "text/plain": [
       "(array([ 0,  1,  2, 12]),)"
      ]
     },
     "execution_count": 46,
     "metadata": {},
     "output_type": "execute_result"
    }
   ],
   "source": [
    "(corrs[:,0] > 0.3).nonzero()"
   ]
  },
  {
   "cell_type": "code",
   "execution_count": 47,
   "metadata": {},
   "outputs": [
    {
     "data": {
      "text/plain": [
       "(array([ 3, 13]),)"
      ]
     },
     "execution_count": 47,
     "metadata": {},
     "output_type": "execute_result"
    }
   ],
   "source": [
    "(corrs[:,0] < -0.3).nonzero()"
   ]
  },
  {
   "cell_type": "code",
   "execution_count": null,
   "metadata": {},
   "outputs": [],
   "source": []
  }
 ],
 "metadata": {
  "interpreter": {
   "hash": "3c96e6611f5334d39635558242f9f67d8843a79436e464da403fc45b83f5c2d5"
  },
  "kernelspec": {
   "display_name": "Python 3.9.2 64-bit ('base': conda)",
   "name": "python3"
  },
  "language_info": {
   "codemirror_mode": {
    "name": "ipython",
    "version": 3
   },
   "file_extension": ".py",
   "mimetype": "text/x-python",
   "name": "python",
   "nbconvert_exporter": "python",
   "pygments_lexer": "ipython3",
   "version": "3.9.2"
  },
  "papermill": {
   "default_parameters": {},
   "duration": 8.364857,
   "end_time": "2021-10-22T14:07:55.160669",
   "environment_variables": {},
   "exception": null,
   "input_path": "__notebook__.ipynb",
   "output_path": "__notebook__.ipynb",
   "parameters": {},
   "start_time": "2021-10-22T14:07:46.795812",
   "version": "2.3.3"
  }
 },
 "nbformat": 4,
 "nbformat_minor": 5
}
