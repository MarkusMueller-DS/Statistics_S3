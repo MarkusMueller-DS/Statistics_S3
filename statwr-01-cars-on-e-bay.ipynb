{
 "cells": [
  {
   "attachments": {
    "hsrmlogo.png": {
     "image/png": "[encoded data removed]"
    }
   },
   "cell_type": "markdown",
   "id": "a2c33467",
   "metadata": {
    "papermill": {
     "duration": 0.008951,
     "end_time": "2021-10-17T21:06:19.257844",
     "exception": false,
     "start_time": "2021-10-17T21:06:19.248893",
     "status": "completed"
    },
    "tags": []
   },
   "source": [
    " # Autos auf E-Bay <img src=\"attachment:hsrmlogo.png\" width=\"10%\" align=\"right\">\n",
    "Dieses Notebook stellt einen Datensatz von Gebrauchtwagen auf E-Bay vor, den wir als Beispiel in der Vorlesung verwenden werden. Unser Endziel wird es sein, den Verkaufspreis eines Autos (gegeben Merkmale wie sein Alter, seine Marke, etc.) vorherzusagen.\n",
    "\n",
    "Hierzu analysieren wir in diesem Notebook zunächst den Datensatz. Laden Sie die Datei 'cars.csv' aus Stud.IP herunter, plazieren Sie sie im gleichen Ordner wie das Notebook, und führen Sie die folgende Zelle aus. Es sollten Zeilen mit Merkmalen (0-56) ausgegeben werden.\n",
    "\n"
   ]
  },
  {
   "cell_type": "code",
   "execution_count": 1,
   "id": "c40b25e1",
   "metadata": {
    "execution": {
     "iopub.execute_input": "2021-10-17T21:06:19.281719Z",
     "iopub.status.busy": "2021-10-17T21:06:19.280789Z",
     "iopub.status.idle": "2021-10-17T21:06:19.527467Z",
     "shell.execute_reply": "2021-10-17T21:06:19.526833Z"
    },
    "papermill": {
     "duration": 0.258924,
     "end_time": "2021-10-17T21:06:19.527598",
     "exception": false,
     "start_time": "2021-10-17T21:06:19.268674",
     "status": "completed"
    },
    "tags": []
   },
   "outputs": [
    {
     "name": "stdout",
     "output_type": "stream",
     "text": [
      "00 : dollar_price\n",
      "01 : registration_year\n",
      "02 : power_ps\n",
      "03 : kilometer\n",
      "04 : postal_code\n",
      "05 : type__bus\n",
      "06 : type__cabrio\n",
      "07 : type__coupe\n",
      "08 : type__kleinwagen\n",
      "09 : type__kombi\n",
      "10 : type__limousine\n",
      "11 : type__suv\n",
      "12 : gearbox__automatik\n",
      "13 : gearbox__manuell\n",
      "14 : fuel__benzin\n",
      "15 : fuel__diesel\n",
      "16 : brand__alfa_romeo\n",
      "17 : brand__audi\n",
      "18 : brand__bmw\n",
      "19 : brand__chevrolet\n",
      "20 : brand__chrysler\n",
      "21 : brand__citroen\n",
      "22 : brand__dacia\n",
      "23 : brand__daewoo\n",
      "24 : brand__daihatsu\n",
      "25 : brand__fiat\n",
      "26 : brand__ford\n",
      "27 : brand__honda\n",
      "28 : brand__hyundai\n",
      "29 : brand__jaguar\n",
      "30 : brand__jeep\n",
      "31 : brand__kia\n",
      "32 : brand__lada\n",
      "33 : brand__lancia\n",
      "34 : brand__land_rover\n",
      "35 : brand__mazda\n",
      "36 : brand__mercedes_benz\n",
      "37 : brand__mini\n",
      "38 : brand__mitsubishi\n",
      "39 : brand__nissan\n",
      "40 : brand__opel\n",
      "41 : brand__peugeot\n",
      "42 : brand__porsche\n",
      "43 : brand__renault\n",
      "44 : brand__rover\n",
      "45 : brand__saab\n",
      "46 : brand__seat\n",
      "47 : brand__skoda\n",
      "48 : brand__smart\n",
      "49 : brand__subaru\n",
      "50 : brand__suzuki\n",
      "51 : brand__toyota\n",
      "52 : brand__trabant\n",
      "53 : brand__volkswagen\n",
      "54 : brand__volvo\n",
      "55 : damage__ja\n",
      "56 : damage__nein\n"
     ]
    }
   ],
   "source": [
    "import pandas\n",
    "import numpy as np\n",
    "\n",
    "# Anmerkung: Man kann die Datei auch in Excel/Libreoffice öffnen.\n",
    "cars = pandas.read_csv('data/cars.csv')\n",
    "\n",
    "# Wir geben die Namen der Spalten/Merkmale aus.\n",
    "columns = cars.columns\n",
    "for i,col in enumerate(columns):\n",
    "    print('%.2d : %s' %(i,col))\n",
    "    \n",
    "# Wir konvertieren die Daten in ein Numpy-Array.\n",
    "data = cars.values.astype('float')"
   ]
  },
  {
   "cell_type": "markdown",
   "id": "30eb8074",
   "metadata": {
    "papermill": {
     "duration": 0.008753,
     "end_time": "2021-10-17T21:06:19.545971",
     "exception": false,
     "start_time": "2021-10-17T21:06:19.537218",
     "status": "completed"
    },
    "tags": []
   },
   "source": [
    "In 'data' befindet sich nun eine Datenmatrix. Jede Zeile entspricht einem Auto, jede Spalte einem Merkmal. Berechnen Sie den Durchschnittspreis aller Autos und den Median des Preises. Welcher der beiden Werte ist erwartungsgemäß höher?"
   ]
  },
  {
   "cell_type": "code",
   "execution_count": 2,
   "id": "9bb250bd",
   "metadata": {
    "execution": {
     "iopub.execute_input": "2021-10-17T21:06:19.569177Z",
     "iopub.status.busy": "2021-10-17T21:06:19.568464Z",
     "iopub.status.idle": "2021-10-17T21:06:19.572233Z",
     "shell.execute_reply": "2021-10-17T21:06:19.571632Z"
    },
    "papermill": {
     "duration": 0.017358,
     "end_time": "2021-10-17T21:06:19.572398",
     "exception": false,
     "start_time": "2021-10-17T21:06:19.555040",
     "status": "completed"
    },
    "tags": []
   },
   "outputs": [
    {
     "name": "stdout",
     "output_type": "stream",
     "text": [
      "Durchschnittspreis:  7360.116331909479\n",
      "Median:  3999.0\n",
      "Erwartungsgemäß ist der Mean höher, da sensibler auf Ausreißer reagiert\n"
     ]
    }
   ],
   "source": [
    "prices = data[:,0]\n",
    "print(\"Durchschnittspreis: \",  np.mean(prices))\n",
    "print(\"Median: \", np.median(prices))\n",
    "print(\"Erwartungsgemäß ist der Mean höher, da sensibler auf Ausreißer reagiert\")"
   ]
  },
  {
   "cell_type": "markdown",
   "id": "d198a006",
   "metadata": {
    "papermill": {
     "duration": 0.013052,
     "end_time": "2021-10-17T21:06:19.599300",
     "exception": false,
     "start_time": "2021-10-17T21:06:19.586248",
     "status": "completed"
    },
    "tags": []
   },
   "source": [
    "Die folgende Zelle plottet ein Histogramm aller 'prices'. Führen Sie die Zelle aus. Speichern Sie zu Beginn in 'prices' sämtliche Preise.\n",
    "\n",
    "Es sollte ein Histogramm-Plot erscheinen, der allerdings nur aus einem Balken besteht. Was ist das Problem?"
   ]
  },
  {
   "cell_type": "code",
   "execution_count": 6,
   "id": "5602b9e7",
   "metadata": {
    "execution": {
     "iopub.execute_input": "2021-10-17T21:06:19.632485Z",
     "iopub.status.busy": "2021-10-17T21:06:19.631684Z",
     "iopub.status.idle": "2021-10-17T21:06:19.635013Z",
     "shell.execute_reply": "2021-10-17T21:06:19.634395Z"
    },
    "papermill": {
     "duration": 0.022517,
     "end_time": "2021-10-17T21:06:19.635294",
     "exception": true,
     "start_time": "2021-10-17T21:06:19.612777",
     "status": "failed"
    },
    "tags": []
   },
   "outputs": [
    {
     "data": {
      "image/png": "[encoded data removed]",
      "text/plain": [
       "<Figure size 432x288 with 1 Axes>"
      ]
     },
     "metadata": {
      "needs_background": "light"
     },
     "output_type": "display_data"
    },
    {
     "name": "stdout",
     "output_type": "stream",
     "text": [
      "Standardunterteilung ist nicht wircklich aussagekräftig\n",
      "Maximal Preis ist sehr hoch:  9999999.0\n"
     ]
    }
   ],
   "source": [
    "# display histogram of prices\n",
    "import matplotlib.pyplot as plt\n",
    "plt.hist(prices)\n",
    "plt.show()\n",
    "\n",
    "print(\"Standardunterteilung ist nicht wircklich aussagekräftig\")\n",
    "print(\"Maximal Preis ist sehr hoch: \", np.max(prices))"
   ]
  },
  {
   "cell_type": "markdown",
   "id": "133946e9",
   "metadata": {
    "papermill": {
     "duration": null,
     "end_time": null,
     "exception": null,
     "start_time": null,
     "status": "pending"
    },
    "tags": []
   },
   "source": [
    "Die Methode hist() besitzt einen Parameter 'bins'. Hier kann man eine Liste von Grenzen zwischen den einzelnen Partitionen/bins des Histograms angeben. Versuchen Sie sinnvolle Bins zu übergeben, so dass das Histogramm aussagekräftiger wird."
   ]
  },
  {
   "cell_type": "code",
   "execution_count": 7,
   "id": "31783f7a",
   "metadata": {
    "papermill": {
     "duration": null,
     "end_time": null,
     "exception": null,
     "start_time": null,
     "status": "pending"
    },
    "tags": []
   },
   "outputs": [
    {
     "data": {
      "image/png": "[encoded data removed]",
      "text/plain": [
       "<Figure size 432x288 with 1 Axes>"
      ]
     },
     "metadata": {
      "needs_background": "light"
     },
     "output_type": "display_data"
    }
   ],
   "source": [
    "plt.hist(prices, bins=[0, 5000, 10000, 15000, 20000, 25000, 30000])\n",
    "plt.show()"
   ]
  },
  {
   "cell_type": "markdown",
   "id": "a7937c4b",
   "metadata": {
    "papermill": {
     "duration": null,
     "end_time": null,
     "exception": null,
     "start_time": null,
     "status": "pending"
    },
    "tags": []
   },
   "source": [
    "'data' enthält einige 'brand'-Spalten ('brand_audi', 'brand_bmw', ...) die angeben ob das jeweilige Auto zu einer bestimmten Marke gehört. Entfernen Sie diese Spalten aus dem Datensatz.\n",
    "\n",
    "*Hinweis: Mit np.hstack() können Sie zwei Matrizen nebeneinaneder 'kleben'.*"
   ]
  },
  {
   "cell_type": "code",
   "execution_count": 12,
   "id": "35613518",
   "metadata": {
    "papermill": {
     "duration": null,
     "end_time": null,
     "exception": null,
     "start_time": null,
     "status": "pending"
    },
    "tags": []
   },
   "outputs": [
    {
     "data": {
      "text/plain": [
       "(33009, 18)"
      ]
     },
     "execution_count": 12,
     "metadata": {},
     "output_type": "execute_result"
    }
   ],
   "source": [
    "# brans from column 16 to 54\n",
    "# the to parameter is exclusive \n",
    "data_split_1 = data[:,:16]\n",
    "data_split_2 = data[:,-2:] \n",
    "\n",
    "result = np.hstack([data_split_1, data_split_2])\n",
    "result.shape"
   ]
  },
  {
   "cell_type": "markdown",
   "id": "e9d7d8ce",
   "metadata": {
    "papermill": {
     "duration": null,
     "end_time": null,
     "exception": null,
     "start_time": null,
     "status": "pending"
    },
    "tags": []
   },
   "source": [
    "Geben Sie das günstigste Auto aus. Warum ist es so günstig? Hat es einen Schaden?"
   ]
  },
  {
   "cell_type": "markdown",
   "metadata": {},
   "source": []
  },
  {
   "cell_type": "code",
   "execution_count": 13,
   "id": "0dab3929",
   "metadata": {
    "papermill": {
     "duration": null,
     "end_time": null,
     "exception": null,
     "start_time": null,
     "status": "pending"
    },
    "tags": []
   },
   "outputs": [
    {
     "name": "stdout",
     "output_type": "stream",
     "text": [
      "günstigstes Auto:  110.0\n",
      "index:  14412\n"
     ]
    }
   ],
   "source": [
    "# Mimaler Wert\n",
    "print(\"günstigstes Auto: \", np.min(prices))\n",
    "\n",
    "# Stelle des minmalen Wertes\n",
    "print(\"index: \", np.argmin(prices))"
   ]
  },
  {
   "cell_type": "code",
   "execution_count": 18,
   "metadata": {},
   "outputs": [
    {
     "name": "stdout",
     "output_type": "stream",
     "text": [
      "dollar_price :  110.0\n",
      "registration_year :  1996.0\n",
      "power_ps :  100.0\n",
      "kilometer :  150000.0\n",
      "postal_code :  71063.0\n",
      "type__bus :  0.0\n",
      "type__cabrio :  0.0\n",
      "type__coupe :  0.0\n",
      "type__kleinwagen :  0.0\n",
      "type__kombi :  1.0\n",
      "type__limousine :  0.0\n",
      "type__suv :  0.0\n",
      "gearbox__automatik :  0.0\n",
      "gearbox__manuell :  1.0\n",
      "fuel__benzin :  1.0\n",
      "fuel__diesel :  0.0\n",
      "brand__alfa_romeo :  0.0\n",
      "brand__audi :  0.0\n",
      "brand__bmw :  0.0\n",
      "brand__chevrolet :  0.0\n",
      "brand__chrysler :  0.0\n",
      "brand__citroen :  0.0\n",
      "brand__dacia :  0.0\n",
      "brand__daewoo :  0.0\n",
      "brand__daihatsu :  0.0\n",
      "brand__fiat :  0.0\n",
      "brand__ford :  0.0\n",
      "brand__honda :  0.0\n",
      "brand__hyundai :  0.0\n",
      "brand__jaguar :  0.0\n",
      "brand__jeep :  0.0\n",
      "brand__kia :  0.0\n",
      "brand__lada :  0.0\n",
      "brand__lancia :  0.0\n",
      "brand__land_rover :  0.0\n",
      "brand__mazda :  0.0\n",
      "brand__mercedes_benz :  0.0\n",
      "brand__mini :  0.0\n",
      "brand__mitsubishi :  0.0\n",
      "brand__nissan :  0.0\n",
      "brand__opel :  1.0\n",
      "brand__peugeot :  0.0\n",
      "brand__porsche :  0.0\n",
      "brand__renault :  0.0\n",
      "brand__rover :  0.0\n",
      "brand__saab :  0.0\n",
      "brand__seat :  0.0\n",
      "brand__skoda :  0.0\n",
      "brand__smart :  0.0\n",
      "brand__subaru :  0.0\n",
      "brand__suzuki :  0.0\n",
      "brand__toyota :  0.0\n",
      "brand__trabant :  0.0\n",
      "brand__volkswagen :  0.0\n",
      "brand__volvo :  0.0\n",
      "damage__ja :  0.0\n",
      "damage__nein :  1.0\n"
     ]
    }
   ],
   "source": [
    "# Zeile mit den Werten für den Index 14412\n",
    "np.set_printoptions(suppress=True)\n",
    "mincar = data[14412]\n",
    "\n",
    "# print feature and value\n",
    "for feat, value in zip(columns, mincar):\n",
    "    print(feat, \": \", value)"
   ]
  },
  {
   "cell_type": "markdown",
   "metadata": {},
   "source": [
    "Auto hat keinen Schaden, jedoch ist es alt und hat schon über 150000 km gelaufen, zudem ist es ein Opel"
   ]
  },
  {
   "cell_type": "markdown",
   "id": "8372caad",
   "metadata": {
    "papermill": {
     "duration": null,
     "end_time": null,
     "exception": null,
     "start_time": null,
     "status": "pending"
    },
    "tags": []
   },
   "source": [
    "Führen Sie eine kleine Datenprüfung durch: Stellen Sie sicher, dass jedes Auto entweder beschädigt oder nicht beschädigt ist (d.h., die letzten zwei Spalten des Datensatzes sind korrekt). Checken Sie, dass das Minimum der letzten und vorletzten Spalte immer =0 ist, und das Maximum immer =1.\n",
    "\n",
    "*Hinweis: Mit np.all() können Sie prüfen ob eine Bedingug für **alle** Einträge eines Arrays gilt.*"
   ]
  },
  {
   "cell_type": "code",
   "execution_count": 25,
   "id": "7c7a8bd4",
   "metadata": {
    "papermill": {
     "duration": null,
     "end_time": null,
     "exception": null,
     "start_time": null,
     "status": "pending"
    },
    "tags": []
   },
   "outputs": [
    {
     "data": {
      "text/plain": [
       "True"
      ]
     },
     "execution_count": 25,
     "metadata": {},
     "output_type": "execute_result"
    }
   ],
   "source": [
    "damage_ja = data[:,-2]\n",
    "damage_nein = data[:,-1]\n",
    "\n",
    "# Es gilt immer: Die damage_ja-Spalte ist 0 oder 1\n",
    "np.all(np.logical_or(damage_ja == 0, damage_ja == 1))\n",
    "\n",
    "# Es gilt immer: die damage_nein-Splate ist das Gegenteil von damage_ja\n",
    "np.all(damage_nein == 1 - damage_ja)"
   ]
  },
  {
   "cell_type": "markdown",
   "id": "c4ef348b",
   "metadata": {
    "papermill": {
     "duration": null,
     "end_time": null,
     "exception": null,
     "start_time": null,
     "status": "pending"
    },
    "tags": []
   },
   "source": [
    "Um einen Eindruck von der Beziehung zwischen Preis und Kilometerstand zu erhalten, plotten wir eine kleine Punktwolke. In dieser ist der Preis die x-Achse, der Kilometerstand die y-Achse, und jedes Auto ist ein Punkt."
   ]
  },
  {
   "cell_type": "code",
   "execution_count": 53,
   "id": "dbb5046d",
   "metadata": {
    "papermill": {
     "duration": null,
     "end_time": null,
     "exception": null,
     "start_time": null,
     "status": "pending"
    },
    "tags": []
   },
   "outputs": [
    {
     "data": {
      "image/png": "[encoded data removed]",
      "text/plain": [
       "<Figure size 432x288 with 1 Axes>"
      ]
     },
     "metadata": {
      "needs_background": "light"
     },
     "output_type": "display_data"
    }
   ],
   "source": [
    "prices = data[:,0]\n",
    "km = data[:,3]\n",
    "\n",
    "# plot km against price\n",
    "plt.plot(prices, km, 'o', markersize=3)\n",
    "plt.xlim([0,20000])\n",
    "plt.ylim([0,200000])\n",
    "plt.xlabel('price')\n",
    "plt.ylabel('km')\n",
    "plt.show()"
   ]
  },
  {
   "cell_type": "code",
   "execution_count": null,
   "metadata": {},
   "outputs": [],
   "source": []
  }
 ],
 "metadata": {
  "interpreter": {
   "hash": "3c96e6611f5334d39635558242f9f67d8843a79436e464da403fc45b83f5c2d5"
  },
  "kernelspec": {
   "display_name": "Python 3.9.2 64-bit ('base': conda)",
   "name": "python3"
  },
  "language_info": {
   "codemirror_mode": {
    "name": "ipython",
    "version": 3
   },
   "file_extension": ".py",
   "mimetype": "text/x-python",
   "name": "python",
   "nbconvert_exporter": "python",
   "pygments_lexer": "ipython3",
   "version": "3.9.2"
  },
  "papermill": {
   "default_parameters": {},
   "duration": 7.702382,
   "end_time": "2021-10-17T21:06:20.157678",
   "environment_variables": {},
   "exception": true,
   "input_path": "__notebook__.ipynb",
   "output_path": "__notebook__.ipynb",
   "parameters": {},
   "start_time": "2021-10-17T21:06:12.455296",
   "version": "2.3.3"
  }
 },
 "nbformat": 4,
 "nbformat_minor": 5
}
